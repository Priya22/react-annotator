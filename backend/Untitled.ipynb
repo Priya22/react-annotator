{
 "cells": [
  {
   "cell_type": "code",
   "execution_count": 3,
   "metadata": {},
   "outputs": [],
   "source": [
    "import xml.etree.ElementTree as ET\n",
    "import json\n",
    "import numpy as np\n",
    "from collections import Counter\n",
    "import nltk\n",
    "import argparse\n",
    "import string"
   ]
  },
  {
   "cell_type": "code",
   "execution_count": 2,
   "metadata": {},
   "outputs": [],
   "source": [
    "with open('../data/ARoomWithAView_P1.txt', 'r') as f:\n",
    "    text = f.read()"
   ]
  },
  {
   "cell_type": "code",
   "execution_count": 4,
   "metadata": {},
   "outputs": [],
   "source": [
    "text = text.strip()"
   ]
  },
  {
   "cell_type": "code",
   "execution_count": 5,
   "metadata": {},
   "outputs": [
    {
     "data": {
      "text/plain": [
       "'PART ONE\\n\\n\\n\\nChapter I: The Bertolini\\n\\n\"The Signora had no business to do it,\" said Miss Bartlett, \"n'"
      ]
     },
     "execution_count": 5,
     "metadata": {},
     "output_type": "execute_result"
    }
   ],
   "source": [
    "text[:100]"
   ]
  },
  {
   "cell_type": "code",
   "execution_count": 57,
   "metadata": {},
   "outputs": [],
   "source": [
    "with open('AliceInWonderland.txt', 'r') as f:\n",
    "    og = f.read()\n",
    "og = og.strip()"
   ]
  },
  {
   "cell_type": "code",
   "execution_count": 58,
   "metadata": {},
   "outputs": [],
   "source": [
    "non_ascii = []\n",
    "for x in og:\n",
    "    if not (ord(x) < 128):\n",
    "        non_ascii.append(x)\n",
    "\n",
    "        "
   ]
  },
  {
   "cell_type": "code",
   "execution_count": 59,
   "metadata": {},
   "outputs": [
    {
     "data": {
      "text/plain": [
       "{'ù', '—', '‘', '’', '“', '”'}"
      ]
     },
     "execution_count": 59,
     "metadata": {},
     "output_type": "execute_result"
    }
   ],
   "source": [
    "set(non_ascii)"
   ]
  },
  {
   "cell_type": "code",
   "execution_count": 60,
   "metadata": {},
   "outputs": [],
   "source": [
    "replace = {\n",
    "    '‘': \"'\", \n",
    "    '’': \"'\", \n",
    "    '“': '\"', \n",
    "    '”': '\"',\n",
    "    'ù': '?',\n",
    "    '—': '--'\n",
    "}"
   ]
  },
  {
   "cell_type": "code",
   "execution_count": 61,
   "metadata": {},
   "outputs": [],
   "source": [
    "og = \"\".join([x if ord(x) < 128 else replace[x] for x in og])"
   ]
  },
  {
   "cell_type": "code",
   "execution_count": 62,
   "metadata": {},
   "outputs": [],
   "source": [
    "for x in og:\n",
    "    if not (ord(x) < 128):\n",
    "        print(x)\n"
   ]
  },
  {
   "cell_type": "code",
   "execution_count": 66,
   "metadata": {},
   "outputs": [
    {
     "data": {
      "text/plain": [
       "71632"
      ]
     },
     "execution_count": 66,
     "metadata": {},
     "output_type": "execute_result"
    }
   ],
   "source": [
    "og.find(\"I almost wish I'd gone to see the Hatter instead!\") + + len(\"I almost wish I'd gone to see the Hatter instead!\") "
   ]
  },
  {
   "cell_type": "code",
   "execution_count": 69,
   "metadata": {},
   "outputs": [
    {
     "data": {
      "text/plain": [
       "'\"\\n\\n\\n'"
      ]
     },
     "execution_count": 69,
     "metadata": {},
     "output_type": "execute_result"
    }
   ],
   "source": [
    "og[71632:71636]"
   ]
  },
  {
   "cell_type": "code",
   "execution_count": 70,
   "metadata": {},
   "outputs": [],
   "source": [
    "p1 = og[:71635]"
   ]
  },
  {
   "cell_type": "code",
   "execution_count": 71,
   "metadata": {},
   "outputs": [],
   "source": [
    "with open('../data/AliceInWonderland_P1.txt', 'w') as f:\n",
    "    print(p1, file=f)"
   ]
  },
  {
   "cell_type": "code",
   "execution_count": 72,
   "metadata": {},
   "outputs": [],
   "source": [
    "og = og[71635:].strip()"
   ]
  },
  {
   "cell_type": "code",
   "execution_count": 74,
   "metadata": {},
   "outputs": [
    {
     "data": {
      "text/plain": [
       "'CHAPTER VII.\\nA Mad Tea-Party\\n\\n\\nThere was a table set out under a tree in front of the house, and the'"
      ]
     },
     "execution_count": 74,
     "metadata": {},
     "output_type": "execute_result"
    }
   ],
   "source": [
    "og[:100]"
   ]
  },
  {
   "cell_type": "code",
   "execution_count": 75,
   "metadata": {},
   "outputs": [],
   "source": [
    "#og.find('vividly in her\\nbrain.\\n') + len('vividly in her\\nbrain.\\n')"
   ]
  },
  {
   "cell_type": "code",
   "execution_count": 76,
   "metadata": {},
   "outputs": [],
   "source": [
    "#p2 = og[:117781]"
   ]
  },
  {
   "cell_type": "code",
   "execution_count": 77,
   "metadata": {},
   "outputs": [],
   "source": [
    "with open('../data/AliceInWonderland_P2.txt', 'w') as f:\n",
    "    print(og, file=f)"
   ]
  },
  {
   "cell_type": "code",
   "execution_count": 35,
   "metadata": {},
   "outputs": [],
   "source": [
    "og = og[117781:]"
   ]
  },
  {
   "cell_type": "code",
   "execution_count": 37,
   "metadata": {},
   "outputs": [],
   "source": [
    "og = og.strip()"
   ]
  },
  {
   "cell_type": "code",
   "execution_count": 39,
   "metadata": {},
   "outputs": [
    {
     "data": {
      "text/plain": [
       "'Chapter XV'"
      ]
     },
     "execution_count": 39,
     "metadata": {},
     "output_type": "execute_result"
    }
   ],
   "source": [
    "og[:10]"
   ]
  },
  {
   "cell_type": "code",
   "execution_count": 41,
   "metadata": {},
   "outputs": [
    {
     "data": {
      "text/plain": [
       "114311"
      ]
     },
     "execution_count": 41,
     "metadata": {},
     "output_type": "execute_result"
    }
   ],
   "source": [
    "og.find('winter into the Mediterranean.\\n')+len('winter into the Mediterranean.\\n')"
   ]
  },
  {
   "cell_type": "code",
   "execution_count": 42,
   "metadata": {},
   "outputs": [],
   "source": [
    "p3 = og[:114311]"
   ]
  },
  {
   "cell_type": "code",
   "execution_count": 43,
   "metadata": {},
   "outputs": [],
   "source": [
    "with open('../data/ARoomWithAView_P3.txt','w') as f:\n",
    "    print(p3, file=f)"
   ]
  },
  {
   "cell_type": "code",
   "execution_count": 44,
   "metadata": {},
   "outputs": [],
   "source": [
    "from xml_process import getCharacters"
   ]
  },
  {
   "cell_type": "code",
   "execution_count": 45,
   "metadata": {},
   "outputs": [],
   "source": [
    "xml_path = '../data/ARoomwithaViewbyEMEdwardMorganForster2641.xml'"
   ]
  },
  {
   "cell_type": "code",
   "execution_count": 46,
   "metadata": {},
   "outputs": [],
   "source": [
    "tree = ET.parse(xml_path)\n",
    "root = tree.getroot()\n",
    "charList = getCharacters(root, tree)"
   ]
  },
  {
   "cell_type": "code",
   "execution_count": 47,
   "metadata": {},
   "outputs": [
    {
     "data": {
      "text/plain": [
       "[{'id': 12, 'name': 'Lucy', 'expand': []},\n",
       " {'id': 3, 'name': 'Cecil', 'expand': []},\n",
       " {'id': 7, 'name': 'Freddy', 'expand': [{'name': 'Honeychurch'}]},\n",
       " {'id': 4, 'name': 'Charlotte', 'expand': []},\n",
       " {'id': 1, 'name': 'Beebe', 'expand': [{'name': 'Minnie'}]},\n",
       " {'id': 10, 'name': 'Leonardo', 'expand': []},\n",
       " {'id': 6, 'name': 'Fate', 'expand': []},\n",
       " {'id': 5, 'name': 'Eleanor', 'expand': []},\n",
       " {'id': 26, 'name': 'Phaethon', 'expand': []},\n",
       " {'id': 0, 'name': 'Alan', 'expand': []},\n",
       " {'id': 9, 'name': 'Giotto', 'expand': []},\n",
       " {'id': 24, 'name': 'Nature', 'expand': []},\n",
       " {'id': 27, 'name': 'Schumann', 'expand': []},\n",
       " {'id': 11, 'name': 'Lucia', 'expand': []},\n",
       " {'id': 25, 'name': 'Persephone', 'expand': []},\n",
       " {'id': 2, 'name': 'Beethoven', 'expand': []},\n",
       " {'id': 8,\n",
       "  'name': 'George Emerson',\n",
       "  'expand': [{'name': 'Emerson'}, {'name': 'George'}]},\n",
       " {'id': 13, 'name': 'Miss Alan', 'expand': []},\n",
       " {'id': 14, 'name': 'Miss Bartlett', 'expand': []},\n",
       " {'id': 15, 'name': 'Miss Honeychurch', 'expand': []},\n",
       " {'id': 16, 'name': 'Miss Lavish', 'expand': []},\n",
       " {'id': 17, 'name': 'Mr. Beebe', 'expand': []},\n",
       " {'id': 18, 'name': 'Mr. Emerson', 'expand': []},\n",
       " {'id': 19, 'name': 'Mr. Floyd', 'expand': []},\n",
       " {'id': 20, 'name': 'Mr. Vyse', 'expand': []},\n",
       " {'id': 21, 'name': 'Mrs. Butterworth', 'expand': []},\n",
       " {'id': 22, 'name': 'Mrs. Honeychurch', 'expand': []},\n",
       " {'id': 23, 'name': 'Mrs. Vyse', 'expand': [{'name': 'Vyse'}]},\n",
       " {'id': 28, 'name': 'Sir Harry Otway', 'expand': [{'name': 'Sir Harry'}]},\n",
       " {'id': 29, 'name': 'the Arno', 'expand': []},\n",
       " {'id': 30, 'name': 'the chaplain', 'expand': []},\n",
       " {'id': 31, 'name': 'the clergyman', 'expand': []},\n",
       " {'id': 32, 'name': 'the hostess', 'expand': []},\n",
       " {'id': 33, 'name': 'the lady', 'expand': []},\n",
       " {'id': 34, 'name': 'the son', 'expand': []}]"
      ]
     },
     "execution_count": 47,
     "metadata": {},
     "output_type": "execute_result"
    }
   ],
   "source": [
    "charList"
   ]
  },
  {
   "cell_type": "code",
   "execution_count": 48,
   "metadata": {},
   "outputs": [],
   "source": [
    "charNames = []\n",
    "for c in charList:\n",
    "    charNames.extend(c['name'].split(\" \"))\n",
    "    for e in c['expand']:\n",
    "        charNames.extend(e['name'].split(\" \"))"
   ]
  },
  {
   "cell_type": "code",
   "execution_count": 49,
   "metadata": {},
   "outputs": [
    {
     "data": {
      "text/plain": [
       "['Lucy',\n",
       " 'Cecil',\n",
       " 'Freddy',\n",
       " 'Honeychurch',\n",
       " 'Charlotte',\n",
       " 'Beebe',\n",
       " 'Minnie',\n",
       " 'Leonardo',\n",
       " 'Fate',\n",
       " 'Eleanor',\n",
       " 'Phaethon',\n",
       " 'Alan',\n",
       " 'Giotto',\n",
       " 'Nature',\n",
       " 'Schumann',\n",
       " 'Lucia',\n",
       " 'Persephone',\n",
       " 'Beethoven',\n",
       " 'George',\n",
       " 'Emerson',\n",
       " 'Emerson',\n",
       " 'George',\n",
       " 'Miss',\n",
       " 'Alan',\n",
       " 'Miss',\n",
       " 'Bartlett',\n",
       " 'Miss',\n",
       " 'Honeychurch',\n",
       " 'Miss',\n",
       " 'Lavish',\n",
       " 'Mr.',\n",
       " 'Beebe',\n",
       " 'Mr.',\n",
       " 'Emerson',\n",
       " 'Mr.',\n",
       " 'Floyd',\n",
       " 'Mr.',\n",
       " 'Vyse',\n",
       " 'Mrs.',\n",
       " 'Butterworth',\n",
       " 'Mrs.',\n",
       " 'Honeychurch',\n",
       " 'Mrs.',\n",
       " 'Vyse',\n",
       " 'Vyse',\n",
       " 'Sir',\n",
       " 'Harry',\n",
       " 'Otway',\n",
       " 'Sir',\n",
       " 'Harry',\n",
       " 'the',\n",
       " 'Arno',\n",
       " 'the',\n",
       " 'chaplain',\n",
       " 'the',\n",
       " 'clergyman',\n",
       " 'the',\n",
       " 'hostess',\n",
       " 'the',\n",
       " 'lady',\n",
       " 'the',\n",
       " 'son']"
      ]
     },
     "execution_count": 49,
     "metadata": {},
     "output_type": "execute_result"
    }
   ],
   "source": [
    "charNames"
   ]
  },
  {
   "cell_type": "code",
   "execution_count": 54,
   "metadata": {},
   "outputs": [],
   "source": [
    "txt = '\"The Signora had no business to do it,\" said Miss Bartlett, \"no business at all. She promised us south rooms with a view close together,  instead of which here are north rooms, looking into a courtyard, and a long way apart. Oh, Lucy!\"'"
   ]
  },
  {
   "cell_type": "code",
   "execution_count": 55,
   "metadata": {},
   "outputs": [],
   "source": [
    "from xml_process import getMentions"
   ]
  },
  {
   "cell_type": "code",
   "execution_count": 56,
   "metadata": {},
   "outputs": [
    {
     "data": {
      "text/plain": [
       "([[45, 49], [50, 58], [81, 84], [94, 96], [229, 233]],\n",
       " ['Miss', 'Bartlett', 'She', 'us', 'Lucy'])"
      ]
     },
     "execution_count": 56,
     "metadata": {},
     "output_type": "execute_result"
    }
   ],
   "source": [
    "getMentions(txt, 0, charNames)"
   ]
  },
  {
   "cell_type": "code",
   "execution_count": null,
   "metadata": {},
   "outputs": [],
   "source": []
  }
 ],
 "metadata": {
  "kernelspec": {
   "display_name": "Python 3",
   "language": "python",
   "name": "python3"
  },
  "language_info": {
   "codemirror_mode": {
    "name": "ipython",
    "version": 3
   },
   "file_extension": ".py",
   "mimetype": "text/x-python",
   "name": "python",
   "nbconvert_exporter": "python",
   "pygments_lexer": "ipython3",
   "version": "3.7.4"
  }
 },
 "nbformat": 4,
 "nbformat_minor": 2
}
